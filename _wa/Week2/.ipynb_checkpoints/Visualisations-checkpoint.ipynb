{
 "cells": [
  {
   "cell_type": "markdown",
   "metadata": {},
   "source": [
    "# Visualisations with Matplotlib & Seaborn\n",
    "\n",
    "Today, I'm going to walk you through making some visualisations in Matplotlib and Seaborn. You have already seen my basic matplotlib visualisations before and I am going to go step by step through how to make different types of graphs in Matplotlib. Matplotlib, although very useful, is rather old (~2003!) and the graphs can seem very outdated. \n",
    "\n",
    "Therefore afterwards, we're going to talk about another library called Seaborn, and we're going to see what the differences are within the libraries, visually and practically. \n",
    "\n",
    "There will be an exercise to work on real life data, since you will be working on a project next class.\n",
    "\n",
    "If there is time, we will go through the other notebook on how to make maps, and if not, you can always go through that yourself! \n",
    "\n",
    "Let's get started! "
   ]
  },
  {
   "cell_type": "markdown",
   "metadata": {},
   "source": [
    "## Visualisations with Matplotlib\n",
    "\n",
    "### Line Plots\n",
    "\n",
    "Line graphs is perhaps the most basic form of visualisation, where corresponding coordinates (x,y) are mapped as a marker, and markers are connected with straight lines. \n"
   ]
  },
  {
   "cell_type": "code",
   "execution_count": null,
   "metadata": {
    "collapsed": false
   },
   "outputs": [],
   "source": [
    "import matplotlib.pyplot as plt\n",
    "%matplotlib inline\n",
    "import numpy as np\n",
    "import pandas as pd  #Plot a line!\n",
    "\n",
    "df = pd.read_csv('/home/dhruvy/Desktop/GlobalTemperatures.csv')\n",
    "temp = df[['dt','LandAverageTemperature','LandAndOceanAverageTemperature']] #dropping redundant columns \n",
    "temp['dt'] = pd.to_datetime(temp['dt'])\n",
    "temp.head(10)"
   ]
  },
  {
   "cell_type": "code",
   "execution_count": null,
   "metadata": {
    "collapsed": false
   },
   "outputs": [],
   "source": [
    "plt.figure(figsize=(20, 10), dpi=100)\n",
    "plt.plot(temp['dt'],temp['LandAverageTemperature'], color='#800000')\n",
    "plt.show()"
   ]
  },
  {
   "cell_type": "code",
   "execution_count": null,
   "metadata": {
    "collapsed": false
   },
   "outputs": [],
   "source": [
    "plt.figure(figsize=(20,10), dpi=50)\n",
    "plt.plot(temp['dt'],temp['LandAverageTemperature'], color='#800000')\n",
    "plt.plot(temp['dt'],temp['LandAndOceanAverageTemperature'], color='#FFFF00')\n",
    "plt.show()"
   ]
  },
  {
   "cell_type": "markdown",
   "metadata": {},
   "source": [
    "Not very useful is it? It doesn't tell us much, and actually, it seems that there are no changes. Perhaps it would be more useful to plot it in a different way. What do you think?\n"
   ]
  },
  {
   "cell_type": "code",
   "execution_count": null,
   "metadata": {
    "collapsed": false
   },
   "outputs": [],
   "source": [
    "#Let's work with Pandas to seperate our data \n",
    "\n",
    "temp['year'] = temp['dt'].map(lambda x : x.year)\n",
    "temp['month'] = temp['dt'].map(lambda x : x.month)\n"
   ]
  },
  {
   "cell_type": "code",
   "execution_count": null,
   "metadata": {
    "collapsed": false
   },
   "outputs": [],
   "source": [
    "# What is a lambda function? Have a look at the example below. \n",
    "\n",
    "def h(x): \n",
    "    return x**2\n",
    "\n",
    "print h(8)\n",
    "\n",
    "f = lambda x: x **2\n",
    "\n",
    "print f(8)\n",
    "\n",
    "# It performs exactly the same operation as the function we defined as h above, but has much simpler syntax"
   ]
  },
  {
   "cell_type": "code",
   "execution_count": null,
   "metadata": {
    "collapsed": false
   },
   "outputs": [],
   "source": [
    "\"\"\"The map function on the other hand returns a list. Take an argument, and iterate through it and apply\n",
    "something to every iterable, and return the result as a list. \n",
    "\n",
    "Let's say you give me a list that you want squared. You already know the way in this cell \"\"\"\n",
    "\n",
    "oneten = [1,2,3,4,5,6,7,8,9,10]\n",
    "\n",
    "def squ(x):\n",
    "    sq=[]\n",
    "    for i in x:\n",
    "        sq.append(i**2)\n",
    "    return sq\n",
    "\n",
    "print squ(oneten)"
   ]
  },
  {
   "cell_type": "code",
   "execution_count": null,
   "metadata": {
    "collapsed": false
   },
   "outputs": [],
   "source": [
    "# The map function does exactly the same thing, just more concisely. The basic syntax is map(function, item)\n",
    "\n",
    "map(lambda x : x**2,oneten)\n",
    "\n",
    "'def squared(x): return x**2' #You can also pass functions into map"
   ]
  },
  {
   "cell_type": "code",
   "execution_count": null,
   "metadata": {
    "collapsed": false
   },
   "outputs": [],
   "source": [
    "def label_seasons(month): # Making a function we can pass into the new month frame, to label seasons\n",
    "    if month  >= 3 and month <=5:\n",
    "        return 'spring'\n",
    "    elif month>=5 and month <=8:\n",
    "        return 'summer'\n",
    "    elif month >=9 and month <=11:\n",
    "        return 'autumn'      \n",
    "    else:\n",
    "        return 'winter'\n",
    "\n",
    "first_year = temp['year'].min()\n",
    "last_year = temp['year'].max()\n",
    "year_range = range(first_year, last_year + 1) # getting our range to iterate through\n",
    "\n",
    "\n",
    "# Using a similar operation from before to create a new column seasons by applying the label_seasons function \n",
    "temp['season'] = temp['month'].apply(label_seasons) \n",
    "\n",
    "\n",
    "summer_temps = []\n",
    "autumn_temps = []\n",
    "winter_temps = []\n",
    "spring_temps = []\n",
    "\n",
    "for year in year_range:\n",
    "    cur_year_temps = temp[temp['year'] == year]\n",
    "    summer_temps.append(cur_year_temps[cur_year_temps['season'] == 'summer']['LandAverageTemperature'].mean())\n",
    "    autumn_temps.append(cur_year_temps[cur_year_temps['season'] == 'autumn']['LandAverageTemperature'].mean())\n",
    "    winter_temps.append(cur_year_temps[cur_year_temps['season'] == 'winter']['LandAverageTemperature'].mean())\n",
    "    spring_temps.append(cur_year_temps[cur_year_temps['season'] == 'spring']['LandAverageTemperature'].mean())\n",
    "    \n",
    "plt.figure(figsize=(15, 10), dpi=80)\n",
    "plt.plot(year_range, summer_temps, label='Summers average temperature', color='orange')\n",
    "plt.plot(year_range, autumn_temps, label='Autumns average temperature', color='r')\n",
    "plt.plot(year_range, winter_temps, label='Winters average temperature', color='b')\n",
    "plt.plot(year_range, spring_temps, label='Springs average temperature', color='g')\n",
    "plt.xlim(first_year,last_year)\n",
    "plt.ylim(0,18)\n",
    "plt.xlabel('Year', fontsize=20)\n",
    "plt.ylabel('Average Temperature',fontsize=20)\n",
    "plt.title('Average Temperature by Season from 1750 to 2015',fontsize=32)\n",
    "plt.legend(loc='center left', bbox_to_anchor=(1, 0.5), frameon=True, borderpad=1, borderaxespad=1)\n",
    "plt.savefig('/home/dhruvy/Desktop/s.pdf') #other extentions that work are .png or .jpg\n",
    "plt.show()\n",
    "\n",
    "#P.S. - If you want to change how the 'ticks' work, you can use this:\n",
    "'''axes.set_xticks([Put a list of ticks you want to see here])\n",
    "    axes.set_yticks([Same here])'''\n",
    "\n",
    "''' Now you know how to properly use pandas to perform visualisations in matplotlib! \n",
    "    Let's have a look at how to make other types of charts quickly!'''    "
   ]
  },
  {
   "cell_type": "markdown",
   "metadata": {},
   "source": [
    "### Pie Charts\n",
    "\n",
    "Although I don't have a direct example here, let's have a look at a theoretical example. \n",
    "\n",
    "Pie charts are usually used to represent how the pie is divvied up, so to speak. The idea is there is a whole that is shared by many (read: more than one) different things, and a pie chart is a simple representation of that. \n",
    "\n"
   ]
  },
  {
   "cell_type": "code",
   "execution_count": null,
   "metadata": {
    "collapsed": false
   },
   "outputs": [],
   "source": [
    "# Setting values here for top 10 populations in the world\n",
    "values = [1388232693,1342512706,326474013,263510146,211243220,196744376,191835936,164827718,143375006,130222815]\n",
    "colors = ['r', 'g', 'b', 'c', 'm'] # Setting a list of colors \n",
    "labels = ['China','India','USA','Indonesia','Brazil','Pakistan','Nigeria','Bangladesh','Russia','Mexico']\n",
    "plt.pie(values, colors= colors, labels=labels)\n",
    "plt.title('Top 10 Populations (~60% of total world population)')\n",
    "plt.show()\n",
    "\n",
    "''' You can also get the piechart to explode. Try make the following list above:\n",
    "    explode = [0.3,0.25,0.2,0.15,0.1,0.05,0,0,0,0]\n",
    "    Then in plt.pie(), inclue the argument explode=explode and see that happens.'''"
   ]
  },
  {
   "cell_type": "markdown",
   "metadata": {},
   "source": [
    "### Bar Charts\n",
    "\n",
    "Let's use another dataset to illustrate how to make a bar chart. Import the gtd.csv file first\n"
   ]
  },
  {
   "cell_type": "code",
   "execution_count": null,
   "metadata": {
    "collapsed": false
   },
   "outputs": [],
   "source": [
    "gtd = pd.read_csv('/home/dhruvy/Desktop/gtd.csv')\n",
    "gtd.head()\n"
   ]
  },
  {
   "cell_type": "code",
   "execution_count": null,
   "metadata": {
    "collapsed": false
   },
   "outputs": [],
   "source": [
    "from collections import Counter\n",
    "year_list = Counter(gtd['iyear'])\n",
    "top_20 = {}\n",
    "\n",
    "for x,y in year_list.most_common(20):\n",
    "    top_20[x] = y"
   ]
  },
  {
   "cell_type": "code",
   "execution_count": null,
   "metadata": {
    "collapsed": false
   },
   "outputs": [],
   "source": [
    "plt.bar(range(len(top_20)), top_20.values(),align='center')\n",
    "plt.xticks(range(len(top_20)), top_20.keys(),rotation='vertical')\n",
    "plt.suptitle('20 Years with the Most Terrorist Attacks since 1970')\n",
    "plt.xlabel('Year')\n",
    "plt.ylabel('# of Terrorist Attacks')\n",
    "plt.show()"
   ]
  },
  {
   "cell_type": "markdown",
   "metadata": {},
   "source": [
    "### Scatter Plots\n",
    "\n",
    "Let's use the same data to make a scatter plot to see if there are any correlations.\n"
   ]
  },
  {
   "cell_type": "code",
   "execution_count": null,
   "metadata": {
    "collapsed": false
   },
   "outputs": [],
   "source": [
    "x = gtd['nkill']\n",
    "y = gtd['nwound']\n",
    "\n",
    "plt.title('Scatter plot of fatalities vs wounded')\n",
    "plt.xlabel('Killed')\n",
    "plt.ylabel('Wounded')\n",
    "plt.scatter(x,y)\n",
    "plt.show()"
   ]
  },
  {
   "cell_type": "markdown",
   "metadata": {},
   "source": [
    "### Histograms\n",
    "\n",
    "These are quite simple to make, as long as you remember the concept. Remember all those PDF's we discussed last time? You generally use histogram to find out if there is a PDF that perhaps matches your data distribution. They're really quite simple to make in Python, and often are used for cursory analysis of your data.\n",
    "\n"
   ]
  },
  {
   "cell_type": "code",
   "execution_count": null,
   "metadata": {
    "collapsed": false
   },
   "outputs": [],
   "source": [
    "incomes = np.random.normal(77000, 15000, 10000)\n",
    "plt.hist(incomes, 50)\n",
    "plt.xlabel('Incomes')\n",
    "plt.ylabel('Count')\n",
    "plt.show()"
   ]
  },
  {
   "cell_type": "markdown",
   "metadata": {},
   "source": [
    "We're done with matplotlib for now! This is not the entirety of matplotlib of course, but only the major types of visualisations that you will probably use. Now you get how the basics of matplotlib work, you can have  a look here to see what else you can make with Matplotlib.\n",
    "\n",
    "[Matplotlib Examples & Documentation](http://matplotlib.org/1.5.1/gallery.html)"
   ]
  },
  {
   "cell_type": "markdown",
   "metadata": {},
   "source": [
    "## Seaborn\n",
    "\n",
    "Seaborn is another very useful (and advanced) library that we can use to make beautiful visualisations. Although more complicated, I would like to take you through the basics of Seaborn, and how it is different in usage than matplotlib. "
   ]
  },
  {
   "cell_type": "code",
   "execution_count": null,
   "metadata": {
    "collapsed": true
   },
   "outputs": [],
   "source": [
    "#First let's import seaborn. The convention is to import it as sns\n",
    "import seaborn as sns"
   ]
  },
  {
   "cell_type": "code",
   "execution_count": null,
   "metadata": {
    "collapsed": false
   },
   "outputs": [],
   "source": [
    "# Let's go back to our global warming dataset and plot our first line plot using Seaborn\n",
    "sns.set(style=\"darkgrid\")\n",
    "sns.set_color_codes(\"pastel\")\n",
    "plt.figure(figsize=(15, 10), dpi=80)\n",
    "plt.plot(year_range, summer_temps, label='Summers average temperature', color='orange')\n",
    "plt.plot(year_range, autumn_temps, label='Autumns average temperature', color='r')\n",
    "plt.plot(year_range, winter_temps, label='Winters average temperature', color='b')\n",
    "plt.plot(year_range, spring_temps, label='Springs average temperature', color='g')\n",
    "plt.xlim(first_year,last_year)\n",
    "legend = plt.legend(loc='center left', bbox_to_anchor=(1, 0.5), frameon=True, borderpad=1, borderaxespad=1)"
   ]
  },
  {
   "cell_type": "code",
   "execution_count": null,
   "metadata": {
    "collapsed": false
   },
   "outputs": [],
   "source": [
    "# Let's make a cooler bar graph using another global warming graph\n",
    "by_country = pd.read_csv('/home/dhruvy/Desktop/GlobalLandTemperaturesByCountry.csv')\n",
    "by_country = by_country[~by_country['Country'].isin(\n",
    "        ['Denmark', 'Antarctica', 'France', 'Europe', 'Netherlands','United Kingdom', 'Africa', 'South America'])]\n",
    "\n",
    "\n",
    "by_country_fixed = by_country.replace(\n",
    "   ['Denmark (Europe)', 'France (Europe)', 'Netherlands (Europe)', 'United Kingdom (Europe)'],\n",
    "   ['Denmark', 'France', 'Netherlands', 'United Kingdom'])\n",
    "\n",
    "\n",
    "countries = np.unique(by_country_fixed['Country'])\n",
    "avg_temp = []\n",
    "for country in countries:\n",
    "    avg_temp.append(by_country_fixed[by_country_fixed['Country'] == \n",
    "                                               country]['AverageTemperature'].mean())"
   ]
  },
  {
   "cell_type": "code",
   "execution_count": null,
   "metadata": {
    "collapsed": false
   },
   "outputs": [],
   "source": [
    "mean_temp_bar, countries_bar = zip(*sorted(zip(avg_temp, countries), reverse = True))\n",
    "\n",
    "''' \n",
    "    A little word on zip. \n",
    "    Zip is a nifty little built-in python function that lets us sort a list using another list. \n",
    "    Try this code out and see what it does. \n",
    "    x = [1,2,3]\n",
    "    y = [4,5,6]\n",
    "    zipped = zip(x,y)\n",
    "    print zipped\n",
    "    x2,y2 = zip(*zipped)\n",
    "    print x2==x\n",
    "    print y2==y\n",
    "    \n",
    "    Can you figure out what the code above did now?\n",
    "                                                                                                '''\n",
    "    \n",
    "    \n",
    "    \n",
    "sns.set(font_scale=0.9) \n",
    "f, ax = plt.subplots(figsize=(6, 50))\n",
    "colors = sns.color_palette('coolwarm', len(countries))\n",
    "sns.barplot(mean_temp_bar, countries_bar, palette = colors_cw[::-1])\n",
    "titles = ax.set(xlabel='Average temperature', title='Average land temperature in countries')"
   ]
  },
  {
   "cell_type": "markdown",
   "metadata": {},
   "source": [
    "### Advanced: Making Heatmaps\n",
    "\n",
    "Heatmaps are a great tool to see patterns over a period of time, or making contours. I don't expect you to understand the entirety of this, but it would be cool to "
   ]
  },
  {
   "cell_type": "code",
   "execution_count": null,
   "metadata": {
    "collapsed": false
   },
   "outputs": [],
   "source": [
    "df = pd.read_csv('/home/dhruvy/Desktop/GlobalTemperatures.csv')\n",
    "df = df[df[\"dt\"] >= \"1900-01-01\"][[\"dt\", \"LandAverageTemperature\",]]\n",
    "df['dt'] = pd.to_datetime(df['dt'])\n",
    "df.head(10)"
   ]
  },
  {
   "cell_type": "code",
   "execution_count": null,
   "metadata": {
    "collapsed": false
   },
   "outputs": [],
   "source": [
    "import calendar\n",
    "\n",
    "# Making new columns for year and month\n",
    "df['year'] = df['dt'].map(lambda x: x.year)\n",
    "df['month'] = df['dt'].map(lambda x: calendar.month_abbr[x.month])\n",
    "\n",
    "# We are calculating the mean for any given month here\n",
    "avg_temp_month = df[['month', 'LandAverageTemperature']].groupby('month').mean()\n",
    "\n",
    "# .loc is a categorical, location based indexer\n",
    "# We are using that to get the final average temperature \n",
    "df['finalavgtemp'] = df['month'].apply(lambda x: avg_temp_month.loc[x]) \n",
    "\n",
    "# Seeing if a month was higher or lower in average temperature\n",
    "df['difference'] = df['LandAverageTemperature'] - df['finalavgtemp']\n",
    "df.head()\n"
   ]
  },
  {
   "cell_type": "code",
   "execution_count": null,
   "metadata": {
    "collapsed": true
   },
   "outputs": [],
   "source": [
    "final_df = df[['year', 'month', 'difference']].groupby(by=['year', 'month']).sum()\n",
    "\n",
    "#Unstack: used for pivoting index tables (or reindexing them)\n",
    "final_df = final_df.unstack()\n",
    "\n",
    "# The .xs gives us a cross section, (rather than giving the old dataframe, it rearranges it how we want)\n",
    "# In this case, i've arranged the data frame on the first axis (i.e. year)\n",
    "final_df = final_df.xs(\"difference\", axis=1)[::-1]\n",
    "\n"
   ]
  },
  {
   "cell_type": "code",
   "execution_count": null,
   "metadata": {
    "collapsed": false
   },
   "outputs": [],
   "source": [
    "plt.figure(figsize=(15, 10))\n",
    "plt.yticks(rotation = 'horizontal')\n",
    "sns.heatmap(final_df, yticklabels=8, cmap=\"magma\", vmin=-3)"
   ]
  },
  {
   "cell_type": "markdown",
   "metadata": {},
   "source": [
    "## There you go!\n",
    "\n",
    "Hope you had fun with visualisations. You can look at seaborn documentation and have a look at their examples to know more!"
   ]
  }
 ],
 "metadata": {
  "anaconda-cloud": {},
  "kernelspec": {
   "display_name": "Python [default]",
   "language": "python",
   "name": "python2"
  },
  "language_info": {
   "codemirror_mode": {
    "name": "ipython",
    "version": 2
   },
   "file_extension": ".py",
   "mimetype": "text/x-python",
   "name": "python",
   "nbconvert_exporter": "python",
   "pygments_lexer": "ipython2",
   "version": "2.7.12"
  }
 },
 "nbformat": 4,
 "nbformat_minor": 1
}
