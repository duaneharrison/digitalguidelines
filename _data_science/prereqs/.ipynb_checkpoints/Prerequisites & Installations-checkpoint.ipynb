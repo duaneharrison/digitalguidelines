{
 "cells": [
  {
   "cell_type": "markdown",
   "metadata": {},
   "source": [
    "# Welcome to Intro to Data Science & Machine Learning!"
   ]
  },
  {
   "cell_type": "code",
   "execution_count": null,
   "metadata": {
    "collapsed": false
   },
   "outputs": [],
   "source": [
    "\"\"\"I hope you are excited for starting your data science journey!\n",
    "\n",
    "In this introduction, I will guide you through getting the basic installations out of the way, and show you how to\n",
    "use Anaconda and Jupyter Notebook. We will be using Anaconda, an open, free to use Data Science platform that has\n",
    "fantastic features for data science. We will be using the Python 2.7 version, so get that for your the OS you \n",
    "are using.\"\"\""
   ]
  },
  {
   "cell_type": "markdown",
   "metadata": {},
   "source": [
    "\n",
    "\n",
    "[Click here to get Anaconda](https://www.continuum.io/downloads)"
   ]
  },
  {
   "cell_type": "code",
   "execution_count": null,
   "metadata": {
    "collapsed": true
   },
   "outputs": [],
   "source": [
    "\"\"\"Make sure you are getting the correct bit-version (either 64-bit or 32-bit, depending on the OS you are running.\"\"\""
   ]
  },
  {
   "cell_type": "code",
   "execution_count": null,
   "metadata": {
    "collapsed": false
   },
   "outputs": [],
   "source": [
    "\n",
    "\"\"\"After downloading Anaconda, install it using the install wizard. \"\"\""
   ]
  },
  {
   "cell_type": "code",
   "execution_count": null,
   "metadata": {
    "collapsed": true
   },
   "outputs": [],
   "source": [
    "\"\"\"Once the installation is done, open a cmd or equivalent for your OS (Terminal for Macs and Linux). To verify \n",
    "that Anaconda has successfully installed, type in the command conda list. A list of all the libraries that \n",
    "came with Python will be shown if your installation was successful.\"\"\""
   ]
  },
  {
   "cell_type": "code",
   "execution_count": null,
   "metadata": {
    "collapsed": true
   },
   "outputs": [],
   "source": [
    "\n",
    "\n",
    "\"\"\"Now, let's try open a jupyter notebook. To do that, in your cmd-prompt/terminal, simply type in the command\n",
    "jupyter notebook\"\"\""
   ]
  },
  {
   "cell_type": "code",
   "execution_count": null,
   "metadata": {
    "collapsed": true
   },
   "outputs": [],
   "source": [
    "\n",
    "\"\"\"Jupyter is a great way to execute your data science programs line by line and the see the output of every line. \n",
    "try type in the cell 10+10, and press shift-enter to execute. \n",
    "\n",
    "We will be using jupyter with Anaconda for the course, so try play around with jupyter now, and as you go through\n",
    "the pre-requisite python learning. \n",
    "\n",
    "Enjoy!\"\"\""
   ]
  }
 ],
 "metadata": {
  "anaconda-cloud": {},
  "kernelspec": {
   "display_name": "Python [default]",
   "language": "python",
   "name": "python2"
  },
  "language_info": {
   "codemirror_mode": {
    "name": "ipython",
    "version": 2
   },
   "file_extension": ".py",
   "mimetype": "text/x-python",
   "name": "python",
   "nbconvert_exporter": "python",
   "pygments_lexer": "ipython2",
   "version": "2.7.12"
  }
 },
 "nbformat": 4,
 "nbformat_minor": 1
}
