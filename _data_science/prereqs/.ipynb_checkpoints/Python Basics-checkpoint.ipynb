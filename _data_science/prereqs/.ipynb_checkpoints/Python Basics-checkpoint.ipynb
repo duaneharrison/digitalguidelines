{
 "cells": [
  {
   "cell_type": "markdown",
   "metadata": {},
   "source": [
    "# Python Basics"
   ]
  },
  {
   "cell_type": "markdown",
   "metadata": {},
   "source": [
    "Before we start the course, it is highly advised you go through some Python basics, be it through a website, a book or using this course itself.\n",
    "\n",
    "I have listed a couple of easy ways you may learn Python basics below. I have also given two challenge coding problems below. If you can complete those, you are in very good shape to start the course. Of course, we will review Python basics in the first class, and we will go through some libraries useful for Data Science during the course, but I highly recommend you to try it yourself first!"
   ]
  },
  {
   "cell_type": "markdown",
   "metadata": {},
   "source": [
    "\n",
    "\n",
    "1) [Code Academy](www.codeacademy.com) : A classic website to get you started with coding, and very good at building fundamentals.\n",
    "\n",
    "2) [Python for Informatics](http://www.pythonlearn.com/book_007.pdf) : \n",
    "\n",
    "3) Jump to the Week 1 folder and use class1.ipynb "
   ]
  },
  {
   "cell_type": "markdown",
   "metadata": {},
   "source": [
    "###### \n",
    "Coding Problems:"
   ]
  },
  {
   "cell_type": "markdown",
   "metadata": {
    "collapsed": true
   },
   "source": [
    "\n",
    "1. Write a function that outputs the square of every number from 0-9.\n",
    "\n",
    "2. Write a function that takes in the input of a number, and returns the factorial of that number. "
   ]
  }
 ],
 "metadata": {
  "anaconda-cloud": {},
  "kernelspec": {
   "display_name": "Python [default]",
   "language": "python",
   "name": "python2"
  },
  "language_info": {
   "codemirror_mode": {
    "name": "ipython",
    "version": 2
   },
   "file_extension": ".py",
   "mimetype": "text/x-python",
   "name": "python",
   "nbconvert_exporter": "python",
   "pygments_lexer": "ipython2",
   "version": "2.7.12"
  }
 },
 "nbformat": 4,
 "nbformat_minor": 1
}
