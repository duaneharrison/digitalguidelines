{
 "cells": [
  {
   "cell_type": "markdown",
   "metadata": {},
   "source": [
    "# Making Maps with matplotlib.Basemap\n",
    "\n",
    "Matplotlib has numerous \"side\" libraries that sometimes give great use outside of just scientific computing. One such example is Basemap, that is used to making maps of many different types, and plotting points on them in a customised fashion."
   ]
  },
  {
   "cell_type": "markdown",
   "metadata": {},
   "source": [
    "Let's start by first installing Basemap, because it is not part of the standard Anaconda package. \n",
    "omma\n",
    "To install anything in Anaconda, you can use google \"conda install [package]\". So go ahead and google conda install basemap, and open the continuum link that gives you the command for installing Basemap.\n",
    "\n",
    "After you have the command, open up a terminal and paste that command in. \n",
    "\n",
    "This is the biggest advantage of Anaconda, because without it, you would have to download the source files for basemap and install it into you root directories.\n"
   ]
  },
  {
   "cell_type": "markdown",
   "metadata": {},
   "source": [
    "After you have installed Basemap, you can call it as follows: "
   ]
  },
  {
   "cell_type": "code",
   "execution_count": null,
   "metadata": {
    "collapsed": true
   },
   "outputs": [],
   "source": [
    "from mpl_toolkits.basemap import Basemap\n",
    "import matplotlib.pyplot as plt"
   ]
  },
  {
   "cell_type": "code",
   "execution_count": null,
   "metadata": {
    "collapsed": false
   },
   "outputs": [],
   "source": [
    "# Remember Basemap is a matplotlib toolkit so like any matplotlib plot, give the figure a size first\n",
    "\n",
    "plt.figure(figsize=(20,10))\n",
    "\n",
    "# Now, we can initialise Basemap. There are many projections we can use. I will be using mill currently\n",
    "\n",
    "m = Basemap(projection='mill', llcrnrlat = -80, urcrnrlat = 80, llcrnrlon = -180, urcrnrlon = 180,\n",
    "            resolution = 'c', lat_ts = 20)\n",
    "\n",
    "# Projections can be c=crude, l=low, i = intermediate, h=high or f=full. "
   ]
  },
  {
   "cell_type": "markdown",
   "metadata": {},
   "source": [
    "[Check out more projections here](http://matplotlib.org/basemap/users/mapsetup.html)\n",
    "\n",
    "[Basemap Documentation for all the arguments you can include in the Basemap() function above](http://matplotlib.org/basemap/api/basemap_api.html)"
   ]
  },
  {
   "cell_type": "code",
   "execution_count": null,
   "metadata": {
    "collapsed": false
   },
   "outputs": [],
   "source": [
    "# Now we can do some actual stuff, such as drawing coastlines, and filling colors in etc\n",
    "\n",
    "m.drawcoastlines()\n",
    "m.drawcountries()\n",
    "m.fillcontinents(color = 'burlywood', lake_color = 'lightblue', zorder = 1)\n",
    "m.drawmapboundary(fill_color = 'lightblue')\n",
    "\n",
    "plt.show()\n"
   ]
  },
  {
   "cell_type": "markdown",
   "metadata": {},
   "source": [
    "### Let's plot some points!\n",
    "\n",
    "First, let's plug in a dataset which has coordinates. \n"
   ]
  },
  {
   "cell_type": "code",
   "execution_count": null,
   "metadata": {
    "collapsed": false
   },
   "outputs": [],
   "source": [
    "import pandas as pd\n",
    "\n",
    "gtd = pd.read_csv('/home/dhruvy/Desktop/gtd.csv')"
   ]
  },
  {
   "cell_type": "code",
   "execution_count": null,
   "metadata": {
    "collapsed": true
   },
   "outputs": [],
   "source": [
    "x, y = m(list(gtd.longitude.astype(\"float\")),\\\n",
    "        (list(gtd.latitude.astype(\"float\"))))"
   ]
  },
  {
   "cell_type": "code",
   "execution_count": null,
   "metadata": {
    "collapsed": false
   },
   "outputs": [],
   "source": [
    "plt.figure(figsize=(20,10))\n",
    "m = Basemap(projection='mill', llcrnrlat = -80, urcrnrlat = 80, llcrnrlon = -180, urcrnrlon = 180,\n",
    "            resolution = 'l', lat_ts = 20)\n",
    "\n",
    "m.drawcoastlines()\n",
    "m.drawcountries()\n",
    "m.fillcontinents(color = 'burlywood', lake_color = 'lightblue', zorder = 1)\n",
    "m.drawmapboundary(fill_color = 'lightblue')\n",
    "\n",
    "points = m.plot(x,y,\"o\",markersize=4,color='red',alpha=0.5)\n",
    "plt.title('Terrorist Attacks Around the World', fontsize=40)\n",
    "plt.show()"
   ]
  },
  {
   "cell_type": "markdown",
   "metadata": {},
   "source": [
    "## Let's make some scatter heatmaps\n",
    "\n",
    "So far, we've just plotted basic points on the map that we've initialised. Now, let's see "
   ]
  },
  {
   "cell_type": "code",
   "execution_count": null,
   "metadata": {
    "collapsed": false
   },
   "outputs": [],
   "source": [
    "ind = pd.read_csv('/home/dhruvy/Datasets/Indian Cities/cities_r2.csv')\n",
    "ind.head()"
   ]
  },
  {
   "cell_type": "code",
   "execution_count": null,
   "metadata": {
    "collapsed": false
   },
   "outputs": [],
   "source": [
    "ind['lat'] = ind['location'].apply(lambda x: float(x.split(',')[0]))\n",
    "ind['long'] = ind['location'].apply(lambda x: float(x.split(',')[1]))\n",
    "ind.head(n=5)"
   ]
  },
  {
   "cell_type": "code",
   "execution_count": null,
   "metadata": {
    "collapsed": true
   },
   "outputs": [],
   "source": [
    "from matplotlib import cm\n",
    "def make_map(mag, legendval):\n",
    "    ax1, ax2 = plt.subplots(figsize=(15,12))\n",
    "    \n",
    "    m = Basemap(width=5000000,\n",
    "                      height=3500000,\n",
    "                      resolution='l',\n",
    "                      projection='aea',\n",
    "                      llcrnrlon=69,\n",
    "                      llcrnrlat=6,\n",
    "                      urcrnrlon=99,\n",
    "                      urcrnrlat=36,\n",
    "                      lon_0=78,\n",
    "                      lat_0=20,\n",
    "                      ax=ax2)\n",
    "    m.drawmapboundary()\n",
    "    m.fillcontinents(color='#232528', lake_color ='#232528', zorder=0.5)\n",
    "    m.drawcountries(color='white')\n",
    "    \n",
    "    x, y = m(list(ind['long']), list(ind['lat']))\n",
    "    scatt = m.scatter(x, y, s=mag, marker='o', c=mag, cmap = cm.autumn, alpha=0.5)\n",
    "    \n",
    "    col_bar = m.colorbar(scatt, location='right', pad='5%')\n",
    "    col_bar.ax.set_yticklabels(legendval)\n",
    "    plt.title(title, fontsize=20)\n",
    "    plt.show()    "
   ]
  },
  {
   "cell_type": "code",
   "execution_count": null,
   "metadata": {
    "collapsed": false
   },
   "outputs": [],
   "source": [
    "import numpy as np\n",
    "title = \"Population Scatter Map of India\"\n",
    "\n",
    "pop_lin = ind['population_total'].apply(lambda x : int(x/4000))\n",
    "legendval = np.linspace(ind['population_total'].min(), ind['population_total'].max(), num=10)\n",
    "legendval = legendval.astype(int)\n",
    "\n",
    "\n",
    "make_map(pop_lin, legendval)"
   ]
  },
  {
   "cell_type": "code",
   "execution_count": null,
   "metadata": {
    "collapsed": false
   },
   "outputs": [],
   "source": [
    "title = \"Literacy Rate Scatter Map of India\"\n",
    "\n",
    "lit_lin_space = ind['effective_literacy_rate_total'].apply(lambda x: int(x/0.5))\n",
    "legendval_lit = np.linspace(int(ind['effective_literacy_rate_total'].min()),int(ind['effective_literacy_rate_total'].max()),num=20)\n",
    "legendval_lit = legendval_lit.astype(int)\n",
    "make_map(lit_lin_space,legendval_lit)"
   ]
  },
  {
   "cell_type": "code",
   "execution_count": null,
   "metadata": {
    "collapsed": true
   },
   "outputs": [],
   "source": []
  }
 ],
 "metadata": {
  "anaconda-cloud": {},
  "kernelspec": {
   "display_name": "Python [default]",
   "language": "python",
   "name": "python2"
  },
  "language_info": {
   "codemirror_mode": {
    "name": "ipython",
    "version": 2
   },
   "file_extension": ".py",
   "mimetype": "text/x-python",
   "name": "python",
   "nbconvert_exporter": "python",
   "pygments_lexer": "ipython2",
   "version": "2.7.12"
  }
 },
 "nbformat": 4,
 "nbformat_minor": 1
}
